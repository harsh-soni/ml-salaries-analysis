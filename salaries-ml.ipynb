{
 "cells": [
  {
   "cell_type": "markdown",
   "id": "d8d1c8f2",
   "metadata": {},
   "source": [
    "## Setting the stage\n",
    "\n",
    "We import all necessary packages."
   ]
  },
  {
   "cell_type": "code",
   "execution_count": 197,
   "id": "1429d28a",
   "metadata": {},
   "outputs": [],
   "source": [
    "import numpy as np\n",
    "import pandas as pd\n",
    "import matplotlib.pyplot as plt\n",
    "\n",
    "from sklearn.preprocessing import MinMaxScaler, OneHotEncoder\n",
    "\n",
    "from sklearn import linear_model\n",
    "from sklearn.linear_model import LinearRegression, LogisticRegression\n",
    "from sklearn.neural_network import MLPRegressor\n",
    "from sklearn.ensemble import RandomForestRegressor,RandomForestClassifier\n",
    "\n",
    "from sklearn.model_selection import train_test_split\n",
    "from sklearn.model_selection import GridSearchCV\n",
    "from sklearn.metrics import mean_squared_error, r2_score, accuracy_score, precision_score, recall_score"
   ]
  },
  {
   "cell_type": "markdown",
   "id": "314274fd",
   "metadata": {},
   "source": [
    "## Reading the data\n",
    "\n",
    "We read the csv saved from our previous notebook. Apparently, continent 'NA' is imported with pandas as a 'NaN' value so we will go ahead and fix that by replacing all 'NaN' by NA."
   ]
  },
  {
   "cell_type": "code",
   "execution_count": 198,
   "id": "b20265f3",
   "metadata": {},
   "outputs": [
    {
     "data": {
      "text/html": [
       "<div>\n",
       "<style scoped>\n",
       "    .dataframe tbody tr th:only-of-type {\n",
       "        vertical-align: middle;\n",
       "    }\n",
       "\n",
       "    .dataframe tbody tr th {\n",
       "        vertical-align: top;\n",
       "    }\n",
       "\n",
       "    .dataframe thead th {\n",
       "        text-align: right;\n",
       "    }\n",
       "</style>\n",
       "<table border=\"1\" class=\"dataframe\">\n",
       "  <thead>\n",
       "    <tr style=\"text-align: right;\">\n",
       "      <th></th>\n",
       "      <th>work_year</th>\n",
       "      <th>experience_level</th>\n",
       "      <th>employment_type</th>\n",
       "      <th>salary_in_usd</th>\n",
       "      <th>remote_ratio</th>\n",
       "      <th>company_size</th>\n",
       "      <th>employee_continent</th>\n",
       "      <th>company_continent</th>\n",
       "      <th>is_colocated</th>\n",
       "    </tr>\n",
       "  </thead>\n",
       "  <tbody>\n",
       "    <tr>\n",
       "      <th>0</th>\n",
       "      <td>2022</td>\n",
       "      <td>2</td>\n",
       "      <td>FT</td>\n",
       "      <td>130000</td>\n",
       "      <td>NoRemote</td>\n",
       "      <td>M</td>\n",
       "      <td>NA</td>\n",
       "      <td>NA</td>\n",
       "      <td>1</td>\n",
       "    </tr>\n",
       "    <tr>\n",
       "      <th>1</th>\n",
       "      <td>2022</td>\n",
       "      <td>2</td>\n",
       "      <td>FT</td>\n",
       "      <td>90000</td>\n",
       "      <td>NoRemote</td>\n",
       "      <td>M</td>\n",
       "      <td>NA</td>\n",
       "      <td>NA</td>\n",
       "      <td>1</td>\n",
       "    </tr>\n",
       "    <tr>\n",
       "      <th>2</th>\n",
       "      <td>2022</td>\n",
       "      <td>2</td>\n",
       "      <td>FT</td>\n",
       "      <td>120000</td>\n",
       "      <td>FullRemote</td>\n",
       "      <td>M</td>\n",
       "      <td>NA</td>\n",
       "      <td>NA</td>\n",
       "      <td>1</td>\n",
       "    </tr>\n",
       "    <tr>\n",
       "      <th>3</th>\n",
       "      <td>2022</td>\n",
       "      <td>2</td>\n",
       "      <td>FT</td>\n",
       "      <td>100000</td>\n",
       "      <td>FullRemote</td>\n",
       "      <td>M</td>\n",
       "      <td>NA</td>\n",
       "      <td>NA</td>\n",
       "      <td>1</td>\n",
       "    </tr>\n",
       "    <tr>\n",
       "      <th>4</th>\n",
       "      <td>2022</td>\n",
       "      <td>2</td>\n",
       "      <td>FT</td>\n",
       "      <td>85000</td>\n",
       "      <td>FullRemote</td>\n",
       "      <td>M</td>\n",
       "      <td>NA</td>\n",
       "      <td>NA</td>\n",
       "      <td>1</td>\n",
       "    </tr>\n",
       "  </tbody>\n",
       "</table>\n",
       "</div>"
      ],
      "text/plain": [
       "   work_year  experience_level employment_type  salary_in_usd remote_ratio  \\\n",
       "0       2022                 2              FT         130000     NoRemote   \n",
       "1       2022                 2              FT          90000     NoRemote   \n",
       "2       2022                 2              FT         120000   FullRemote   \n",
       "3       2022                 2              FT         100000   FullRemote   \n",
       "4       2022                 2              FT          85000   FullRemote   \n",
       "\n",
       "  company_size employee_continent company_continent  is_colocated  \n",
       "0            M                 NA                NA             1  \n",
       "1            M                 NA                NA             1  \n",
       "2            M                 NA                NA             1  \n",
       "3            M                 NA                NA             1  \n",
       "4            M                 NA                NA             1  "
      ]
     },
     "execution_count": 198,
     "metadata": {},
     "output_type": "execute_result"
    }
   ],
   "source": [
    "df = pd.read_csv('./ai-ml-salaries-clean.csv')\n",
    "df.fillna('NA',inplace=True)\n",
    "df.head()"
   ]
  },
  {
   "cell_type": "markdown",
   "id": "1c7781c8",
   "metadata": {},
   "source": [
    "Since we do not have any continuous variables to correlate with our target variable i.e., salary_in_usd, a regression analysis here will not yield a great model accuracy. We could create a classification model to determine whether an employee earns more than $120k (50% overall quantile) or not. \n",
    "\n",
    "We can check that this accounts for a 50-50 split in the data we have, so the model accuracy should serve as a good measure of our model's success."
   ]
  },
  {
   "cell_type": "code",
   "execution_count": 199,
   "id": "f0551e65",
   "metadata": {},
   "outputs": [
    {
     "name": "stdout",
     "output_type": "stream",
     "text": [
      "654\n",
      "678\n"
     ]
    }
   ],
   "source": [
    "print(df[(df['salary_in_usd']<120000)]['salary_in_usd'].count())\n",
    "print(df[(df['salary_in_usd']>=120000)]['salary_in_usd'].count())"
   ]
  },
  {
   "cell_type": "markdown",
   "id": "3ead451c",
   "metadata": {},
   "source": [
    "Before we commit to this classification model, let us also check whether or not these two sets are directly distinguishable by the company continent, of which a very large percentage is North America.\n",
    "\n",
    "Indeed, this is not the case."
   ]
  },
  {
   "cell_type": "code",
   "execution_count": 200,
   "id": "2a2fdc19",
   "metadata": {},
   "outputs": [
    {
     "name": "stdout",
     "output_type": "stream",
     "text": [
      "309\n",
      "650\n"
     ]
    }
   ],
   "source": [
    "print(df[(df['salary_in_usd']<120000) & (df['employee_continent']=='NA')]['salary_in_usd'].count())\n",
    "print(df[(df['salary_in_usd']>=120000) & (df['employee_continent']=='NA')]['salary_in_usd'].count())"
   ]
  },
  {
   "cell_type": "code",
   "execution_count": 201,
   "id": "ffaca93d",
   "metadata": {},
   "outputs": [],
   "source": [
    "# df['salary_in_usd'] = MinMaxScaler().fit_transform(df[['salary_in_usd']])"
   ]
  },
  {
   "cell_type": "markdown",
   "id": "6c074d3f",
   "metadata": {},
   "source": [
    "We create our data set of features by eliminating the target variable"
   ]
  },
  {
   "cell_type": "code",
   "execution_count": 202,
   "id": "0f0185fc",
   "metadata": {},
   "outputs": [
    {
     "data": {
      "text/html": [
       "<div>\n",
       "<style scoped>\n",
       "    .dataframe tbody tr th:only-of-type {\n",
       "        vertical-align: middle;\n",
       "    }\n",
       "\n",
       "    .dataframe tbody tr th {\n",
       "        vertical-align: top;\n",
       "    }\n",
       "\n",
       "    .dataframe thead th {\n",
       "        text-align: right;\n",
       "    }\n",
       "</style>\n",
       "<table border=\"1\" class=\"dataframe\">\n",
       "  <thead>\n",
       "    <tr style=\"text-align: right;\">\n",
       "      <th></th>\n",
       "      <th>work_year</th>\n",
       "      <th>experience_level</th>\n",
       "      <th>employment_type</th>\n",
       "      <th>remote_ratio</th>\n",
       "      <th>company_size</th>\n",
       "      <th>employee_continent</th>\n",
       "      <th>company_continent</th>\n",
       "      <th>is_colocated</th>\n",
       "    </tr>\n",
       "  </thead>\n",
       "  <tbody>\n",
       "    <tr>\n",
       "      <th>0</th>\n",
       "      <td>2022</td>\n",
       "      <td>2</td>\n",
       "      <td>FT</td>\n",
       "      <td>NoRemote</td>\n",
       "      <td>M</td>\n",
       "      <td>NA</td>\n",
       "      <td>NA</td>\n",
       "      <td>1</td>\n",
       "    </tr>\n",
       "    <tr>\n",
       "      <th>1</th>\n",
       "      <td>2022</td>\n",
       "      <td>2</td>\n",
       "      <td>FT</td>\n",
       "      <td>NoRemote</td>\n",
       "      <td>M</td>\n",
       "      <td>NA</td>\n",
       "      <td>NA</td>\n",
       "      <td>1</td>\n",
       "    </tr>\n",
       "    <tr>\n",
       "      <th>2</th>\n",
       "      <td>2022</td>\n",
       "      <td>2</td>\n",
       "      <td>FT</td>\n",
       "      <td>FullRemote</td>\n",
       "      <td>M</td>\n",
       "      <td>NA</td>\n",
       "      <td>NA</td>\n",
       "      <td>1</td>\n",
       "    </tr>\n",
       "    <tr>\n",
       "      <th>3</th>\n",
       "      <td>2022</td>\n",
       "      <td>2</td>\n",
       "      <td>FT</td>\n",
       "      <td>FullRemote</td>\n",
       "      <td>M</td>\n",
       "      <td>NA</td>\n",
       "      <td>NA</td>\n",
       "      <td>1</td>\n",
       "    </tr>\n",
       "    <tr>\n",
       "      <th>4</th>\n",
       "      <td>2022</td>\n",
       "      <td>2</td>\n",
       "      <td>FT</td>\n",
       "      <td>FullRemote</td>\n",
       "      <td>M</td>\n",
       "      <td>NA</td>\n",
       "      <td>NA</td>\n",
       "      <td>1</td>\n",
       "    </tr>\n",
       "  </tbody>\n",
       "</table>\n",
       "</div>"
      ],
      "text/plain": [
       "   work_year  experience_level employment_type remote_ratio company_size  \\\n",
       "0       2022                 2              FT     NoRemote            M   \n",
       "1       2022                 2              FT     NoRemote            M   \n",
       "2       2022                 2              FT   FullRemote            M   \n",
       "3       2022                 2              FT   FullRemote            M   \n",
       "4       2022                 2              FT   FullRemote            M   \n",
       "\n",
       "  employee_continent company_continent  is_colocated  \n",
       "0                 NA                NA             1  \n",
       "1                 NA                NA             1  \n",
       "2                 NA                NA             1  \n",
       "3                 NA                NA             1  \n",
       "4                 NA                NA             1  "
      ]
     },
     "execution_count": 202,
     "metadata": {},
     "output_type": "execute_result"
    }
   ],
   "source": [
    "x = df.drop(['salary_in_usd'],axis=1).copy(deep=True)\n",
    "x.head()"
   ]
  },
  {
   "cell_type": "markdown",
   "id": "1575f520",
   "metadata": {},
   "source": [
    "We create our labels dataset"
   ]
  },
  {
   "cell_type": "code",
   "execution_count": 203,
   "id": "42518083",
   "metadata": {},
   "outputs": [
    {
     "data": {
      "text/plain": [
       "0    130000\n",
       "1     90000\n",
       "2    120000\n",
       "3    100000\n",
       "4     85000\n",
       "Name: salary_in_usd, dtype: int64"
      ]
     },
     "execution_count": 203,
     "metadata": {},
     "output_type": "execute_result"
    }
   ],
   "source": [
    "y=df['salary_in_usd'].copy()\n",
    "y.head()"
   ]
  },
  {
   "cell_type": "markdown",
   "id": "f3fe19ad",
   "metadata": {},
   "source": [
    "We split it by the logic decided earlier since we will be doing classification."
   ]
  },
  {
   "cell_type": "code",
   "execution_count": 204,
   "id": "0a6f82bc",
   "metadata": {},
   "outputs": [
    {
     "data": {
      "text/plain": [
       "0       1\n",
       "1       0\n",
       "2       0\n",
       "3       0\n",
       "4       0\n",
       "       ..\n",
       "1327    1\n",
       "1328    1\n",
       "1329    0\n",
       "1330    0\n",
       "1331    0\n",
       "Name: salary_in_usd, Length: 1332, dtype: int64"
      ]
     },
     "execution_count": 204,
     "metadata": {},
     "output_type": "execute_result"
    }
   ],
   "source": [
    "y = y.apply(lambda row: 1 if row>120000 else 0)\n",
    "y"
   ]
  },
  {
   "cell_type": "markdown",
   "id": "9dc3aaf4",
   "metadata": {},
   "source": [
    "Since our continent data is not ordinal, we need to have some way to feed this into our algorithm. Ideally, models like random trees or boosted trees should be able to deal with character data but the packages in scikit-learn require that these categorical variables be encoded as numbers.\n",
    "\n",
    "In our dataset, we will use one-hot encoding for this feature."
   ]
  },
  {
   "cell_type": "code",
   "execution_count": 205,
   "id": "fe60cc1d",
   "metadata": {},
   "outputs": [],
   "source": [
    "# new_dummy = pd.get_dummies(x.employee_continent).copy()\n",
    "# new_dummy.columns=['AF_e','AS_e','EU_e','NA_e','OC_e','SA_e']\n",
    "# x = pd.concat((x,new_dummy),1)\n",
    "# x.drop(['employee_continent'],axis=1,inplace=True)\n",
    "# x.head()"
   ]
  },
  {
   "cell_type": "markdown",
   "id": "e932028b",
   "metadata": {},
   "source": [
    "We are dropping these temporarily to keep our model simple. We might add these later."
   ]
  },
  {
   "cell_type": "code",
   "execution_count": 206,
   "id": "7b89cbf0",
   "metadata": {},
   "outputs": [],
   "source": [
    "x.drop(['employee_continent'],axis=1,inplace=True)"
   ]
  },
  {
   "cell_type": "markdown",
   "id": "48684868",
   "metadata": {},
   "source": [
    "As we encode the categorical variables using one-hot encoding, we drop the original columns containing text data."
   ]
  },
  {
   "cell_type": "code",
   "execution_count": 207,
   "id": "4d3c81a3",
   "metadata": {},
   "outputs": [
    {
     "data": {
      "text/html": [
       "<div>\n",
       "<style scoped>\n",
       "    .dataframe tbody tr th:only-of-type {\n",
       "        vertical-align: middle;\n",
       "    }\n",
       "\n",
       "    .dataframe tbody tr th {\n",
       "        vertical-align: top;\n",
       "    }\n",
       "\n",
       "    .dataframe thead th {\n",
       "        text-align: right;\n",
       "    }\n",
       "</style>\n",
       "<table border=\"1\" class=\"dataframe\">\n",
       "  <thead>\n",
       "    <tr style=\"text-align: right;\">\n",
       "      <th></th>\n",
       "      <th>work_year</th>\n",
       "      <th>experience_level</th>\n",
       "      <th>is_colocated</th>\n",
       "      <th>CT</th>\n",
       "      <th>FL</th>\n",
       "      <th>FT</th>\n",
       "      <th>PT</th>\n",
       "      <th>L</th>\n",
       "      <th>M</th>\n",
       "      <th>S</th>\n",
       "      <th>FullRemote</th>\n",
       "      <th>HalfRemote</th>\n",
       "      <th>NoRemote</th>\n",
       "      <th>AF</th>\n",
       "      <th>AS</th>\n",
       "      <th>EU</th>\n",
       "      <th>NA</th>\n",
       "      <th>OC</th>\n",
       "      <th>SA</th>\n",
       "    </tr>\n",
       "  </thead>\n",
       "  <tbody>\n",
       "    <tr>\n",
       "      <th>0</th>\n",
       "      <td>2022</td>\n",
       "      <td>2</td>\n",
       "      <td>1</td>\n",
       "      <td>0</td>\n",
       "      <td>0</td>\n",
       "      <td>1</td>\n",
       "      <td>0</td>\n",
       "      <td>0</td>\n",
       "      <td>1</td>\n",
       "      <td>0</td>\n",
       "      <td>0</td>\n",
       "      <td>0</td>\n",
       "      <td>1</td>\n",
       "      <td>0</td>\n",
       "      <td>0</td>\n",
       "      <td>0</td>\n",
       "      <td>1</td>\n",
       "      <td>0</td>\n",
       "      <td>0</td>\n",
       "    </tr>\n",
       "    <tr>\n",
       "      <th>1</th>\n",
       "      <td>2022</td>\n",
       "      <td>2</td>\n",
       "      <td>1</td>\n",
       "      <td>0</td>\n",
       "      <td>0</td>\n",
       "      <td>1</td>\n",
       "      <td>0</td>\n",
       "      <td>0</td>\n",
       "      <td>1</td>\n",
       "      <td>0</td>\n",
       "      <td>0</td>\n",
       "      <td>0</td>\n",
       "      <td>1</td>\n",
       "      <td>0</td>\n",
       "      <td>0</td>\n",
       "      <td>0</td>\n",
       "      <td>1</td>\n",
       "      <td>0</td>\n",
       "      <td>0</td>\n",
       "    </tr>\n",
       "    <tr>\n",
       "      <th>2</th>\n",
       "      <td>2022</td>\n",
       "      <td>2</td>\n",
       "      <td>1</td>\n",
       "      <td>0</td>\n",
       "      <td>0</td>\n",
       "      <td>1</td>\n",
       "      <td>0</td>\n",
       "      <td>0</td>\n",
       "      <td>1</td>\n",
       "      <td>0</td>\n",
       "      <td>1</td>\n",
       "      <td>0</td>\n",
       "      <td>0</td>\n",
       "      <td>0</td>\n",
       "      <td>0</td>\n",
       "      <td>0</td>\n",
       "      <td>1</td>\n",
       "      <td>0</td>\n",
       "      <td>0</td>\n",
       "    </tr>\n",
       "    <tr>\n",
       "      <th>3</th>\n",
       "      <td>2022</td>\n",
       "      <td>2</td>\n",
       "      <td>1</td>\n",
       "      <td>0</td>\n",
       "      <td>0</td>\n",
       "      <td>1</td>\n",
       "      <td>0</td>\n",
       "      <td>0</td>\n",
       "      <td>1</td>\n",
       "      <td>0</td>\n",
       "      <td>1</td>\n",
       "      <td>0</td>\n",
       "      <td>0</td>\n",
       "      <td>0</td>\n",
       "      <td>0</td>\n",
       "      <td>0</td>\n",
       "      <td>1</td>\n",
       "      <td>0</td>\n",
       "      <td>0</td>\n",
       "    </tr>\n",
       "    <tr>\n",
       "      <th>4</th>\n",
       "      <td>2022</td>\n",
       "      <td>2</td>\n",
       "      <td>1</td>\n",
       "      <td>0</td>\n",
       "      <td>0</td>\n",
       "      <td>1</td>\n",
       "      <td>0</td>\n",
       "      <td>0</td>\n",
       "      <td>1</td>\n",
       "      <td>0</td>\n",
       "      <td>1</td>\n",
       "      <td>0</td>\n",
       "      <td>0</td>\n",
       "      <td>0</td>\n",
       "      <td>0</td>\n",
       "      <td>0</td>\n",
       "      <td>1</td>\n",
       "      <td>0</td>\n",
       "      <td>0</td>\n",
       "    </tr>\n",
       "  </tbody>\n",
       "</table>\n",
       "</div>"
      ],
      "text/plain": [
       "   work_year  experience_level  is_colocated  CT  FL  FT  PT  L  M  S  \\\n",
       "0       2022                 2             1   0   0   1   0  0  1  0   \n",
       "1       2022                 2             1   0   0   1   0  0  1  0   \n",
       "2       2022                 2             1   0   0   1   0  0  1  0   \n",
       "3       2022                 2             1   0   0   1   0  0  1  0   \n",
       "4       2022                 2             1   0   0   1   0  0  1  0   \n",
       "\n",
       "   FullRemote  HalfRemote  NoRemote  AF  AS  EU  NA  OC  SA  \n",
       "0           0           0         1   0   0   0   1   0   0  \n",
       "1           0           0         1   0   0   0   1   0   0  \n",
       "2           1           0         0   0   0   0   1   0   0  \n",
       "3           1           0         0   0   0   0   1   0   0  \n",
       "4           1           0         0   0   0   0   1   0   0  "
      ]
     },
     "execution_count": 207,
     "metadata": {},
     "output_type": "execute_result"
    }
   ],
   "source": [
    "to_encode=['employment_type','company_size','remote_ratio','company_continent']\n",
    "for col in to_encode:\n",
    "    x = pd.concat((x,pd.get_dummies(x[col]).copy()),1)\n",
    "    x.drop([col],axis=1,inplace=True)\n",
    "x.head()"
   ]
  },
  {
   "cell_type": "markdown",
   "id": "4ec3cc68",
   "metadata": {},
   "source": [
    "We will use this split out data set into training data, validation data, and final hold out test data. "
   ]
  },
  {
   "cell_type": "code",
   "execution_count": 208,
   "id": "5a1edbba",
   "metadata": {},
   "outputs": [],
   "source": [
    "x_train, x_test, y_train, y_test = train_test_split(x,y,test_size=0.4, random_state=79)\n",
    "x_val, x_test, y_val, y_test = train_test_split(x_test,y_test,test_size=0.5, random_state=93)"
   ]
  },
  {
   "cell_type": "code",
   "execution_count": 209,
   "id": "a1369b6e",
   "metadata": {},
   "outputs": [
    {
     "data": {
      "text/plain": [
       "RandomForestClassifier(max_depth=2)"
      ]
     },
     "execution_count": 209,
     "metadata": {},
     "output_type": "execute_result"
    }
   ],
   "source": [
    "#model= MLPRegressor(learning_rate='constant',activation='relu',hidden_layer_sizes=(10,))\n",
    "# model=LogisticRegression()\n",
    "model = RandomForestClassifier()\n",
    "\n",
    "params={\n",
    "    'n_estimators':[5,50,100],\n",
    "    'max_depth':[2,10,20,None]\n",
    "}\n",
    "\n",
    "# params={\n",
    "#     'C':[0.01,0.1,1,10]\n",
    "# }\n",
    "\n",
    "model = GridSearchCV(model,params,cv=5)\n",
    "model.fit(x_train,y_train)\n",
    "model.best_estimator_"
   ]
  },
  {
   "cell_type": "code",
   "execution_count": 210,
   "id": "b703b20e",
   "metadata": {},
   "outputs": [
    {
     "data": {
      "text/plain": [
       "(0.7781954887218046, 0.7581699346405228, 0.8405797101449275)"
      ]
     },
     "execution_count": 210,
     "metadata": {},
     "output_type": "execute_result"
    }
   ],
   "source": [
    "y_pred = model.predict(x_val)\n",
    "accuracy_score(y_val,y_pred) , precision_score(y_val,y_pred) , recall_score(y_val,y_pred) "
   ]
  },
  {
   "cell_type": "code",
   "execution_count": 211,
   "id": "015f50df",
   "metadata": {},
   "outputs": [
    {
     "data": {
      "text/plain": [
       "(0.7865168539325843, 0.7423312883435583, 0.8897058823529411)"
      ]
     },
     "execution_count": 211,
     "metadata": {},
     "output_type": "execute_result"
    }
   ],
   "source": [
    "y_pred = model.predict(x_test)\n",
    "accuracy_score(y_test,y_pred), precision_score(y_test,y_pred) , recall_score(y_test,y_pred)"
   ]
  },
  {
   "cell_type": "markdown",
   "id": "69579372",
   "metadata": {},
   "source": [
    "Our model doesn't have very good accuracy, maybe this can be improved with better feature engineering, or trying other types of models and hyperparameters from the grid. However, it is worth noting that our model has a great recall. \n",
    "\n",
    "This indicates that the model is optimized for false negatives. Only roughly 9% of the time, did an employee have salary higher than 120k and our model classified it under 120k. "
   ]
  },
  {
   "cell_type": "code",
   "execution_count": null,
   "id": "e2505959",
   "metadata": {},
   "outputs": [],
   "source": []
  }
 ],
 "metadata": {
  "kernelspec": {
   "display_name": "Python 3 (ipykernel)",
   "language": "python",
   "name": "python3"
  },
  "language_info": {
   "codemirror_mode": {
    "name": "ipython",
    "version": 3
   },
   "file_extension": ".py",
   "mimetype": "text/x-python",
   "name": "python",
   "nbconvert_exporter": "python",
   "pygments_lexer": "ipython3",
   "version": "3.8.8"
  }
 },
 "nbformat": 4,
 "nbformat_minor": 5
}
